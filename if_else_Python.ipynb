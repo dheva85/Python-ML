{
  "nbformat": 4,
  "nbformat_minor": 0,
  "metadata": {
    "colab": {
      "provenance": [],
      "authorship_tag": "ABX9TyPliy4i4+5a7StQnMu0C0An",
      "include_colab_link": true
    },
    "kernelspec": {
      "name": "python3",
      "display_name": "Python 3"
    },
    "language_info": {
      "name": "python"
    }
  },
  "cells": [
    {
      "cell_type": "markdown",
      "metadata": {
        "id": "view-in-github",
        "colab_type": "text"
      },
      "source": [
        "<a href=\"https://colab.research.google.com/github/dheva85/Python-ML/blob/main/if_else_Python.ipynb\" target=\"_parent\"><img src=\"https://colab.research.google.com/assets/colab-badge.svg\" alt=\"Open In Colab\"/></a>"
      ]
    },
    {
      "cell_type": "markdown",
      "source": [
        "Simple if else Statement"
      ],
      "metadata": {
        "id": "4Z-1H41S0tKx"
      }
    },
    {
      "cell_type": "code",
      "source": [
        "a = 30\n",
        "b = 50\n",
        "\n",
        "if(a>b):\n",
        "  print('a is larger')\n",
        "else:\n",
        "    print('b is greater')"
      ],
      "metadata": {
        "colab": {
          "base_uri": "https://localhost:8080/"
        },
        "id": "GLehUaWT0xpR",
        "outputId": "787f7a37-d507-4e68-8bf1-1307a044bf10"
      },
      "execution_count": 2,
      "outputs": [
        {
          "output_type": "stream",
          "name": "stdout",
          "text": [
            "b is greater\n"
          ]
        }
      ]
    },
    {
      "cell_type": "code",
      "source": [
        "a = int(input('Enter the first number :'))\n",
        "b = int(input('Enter the second number :'))\n",
        "if(a>b):\n",
        "  print('a is larger')\n",
        "elif (a<b):\n",
        "    print('b is greater')\n",
        "else :\n",
        "  print('Both equal')"
      ],
      "metadata": {
        "colab": {
          "base_uri": "https://localhost:8080/"
        },
        "id": "ApAXnA6W1G5A",
        "outputId": "7b1cab13-a5b1-45c5-e6c7-fc7d9c10e313"
      },
      "execution_count": 4,
      "outputs": [
        {
          "output_type": "stream",
          "name": "stdout",
          "text": [
            "Enter the first number :8\n",
            "Enter the second number :8\n",
            "Both equal\n"
          ]
        }
      ]
    },
    {
      "cell_type": "markdown",
      "source": [
        "Nested if statement"
      ],
      "metadata": {
        "id": "wmATAjXy1uSI"
      }
    },
    {
      "cell_type": "code",
      "source": [
        "a = 20\n",
        "b = 40\n",
        "c = 60\n",
        "\n",
        "if(a>b):\n",
        "  if(a>c):\n",
        "    print('a is the greates number')\n",
        "  else:\n",
        "    print('c is the greates number')\n",
        "else:\n",
        "  if(b>c):\n",
        "    print('b is the greates number')\n",
        "  else:\n",
        "    print('c is the greatest number')\n"
      ],
      "metadata": {
        "colab": {
          "base_uri": "https://localhost:8080/"
        },
        "id": "6e9apKCQ1v05",
        "outputId": "3f63efb4-a8cb-4962-d2f5-5515c6b1b1e8"
      },
      "execution_count": 7,
      "outputs": [
        {
          "output_type": "stream",
          "name": "stdout",
          "text": [
            "c is the greatest number\n"
          ]
        }
      ]
    }
  ]
}