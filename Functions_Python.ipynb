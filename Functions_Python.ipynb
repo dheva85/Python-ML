{
  "nbformat": 4,
  "nbformat_minor": 0,
  "metadata": {
    "colab": {
      "provenance": [],
      "authorship_tag": "ABX9TyNoUwWPc9YEARk4A7JLpMsq",
      "include_colab_link": true
    },
    "kernelspec": {
      "name": "python3",
      "display_name": "Python 3"
    },
    "language_info": {
      "name": "python"
    }
  },
  "cells": [
    {
      "cell_type": "markdown",
      "metadata": {
        "id": "view-in-github",
        "colab_type": "text"
      },
      "source": [
        "<a href=\"https://colab.research.google.com/github/dheva85/Python-ML/blob/main/Functions_Python.ipynb\" target=\"_parent\"><img src=\"https://colab.research.google.com/assets/colab-badge.svg\" alt=\"Open In Colab\"/></a>"
      ]
    },
    {
      "cell_type": "markdown",
      "source": [
        "Functions :\n",
        "Function is a block of code that can be reused in a Program"
      ],
      "metadata": {
        "id": "qcCEg89R53Ol"
      }
    },
    {
      "cell_type": "markdown",
      "source": [
        "Factorial of a number\n",
        "\n",
        "Factorial of a number is the product of all the positive integers less than or equal to the give number"
      ],
      "metadata": {
        "id": "ZBdWLUAc6JDM"
      }
    },
    {
      "cell_type": "markdown",
      "source": [
        "Factorial of 5 = 5 x 4 x 3 x 2 x 1 = 120"
      ],
      "metadata": {
        "id": "uSrcXxDK6WOs"
      }
    },
    {
      "cell_type": "code",
      "execution_count": 8,
      "metadata": {
        "colab": {
          "base_uri": "https://localhost:8080/"
        },
        "id": "4h9cxAfT5pAj",
        "outputId": "8a1f8300-7190-46d5-9581-a70406eec26c"
      },
      "outputs": [
        {
          "output_type": "stream",
          "name": "stdout",
          "text": [
            "Enter a number to find ist factorial :0\n",
            "The factorial of 0 is 1\n"
          ]
        }
      ],
      "source": [
        "number = int(input('Enter a number to find ist factorial :'))\n",
        "\n",
        "factorial = 1\n",
        "\n",
        "if number == 0:\n",
        "  print('The factorial of 0 is 1')\n",
        "else:\n",
        "  for i in range(1,number+1):  #range(1,6) --> 1,2,3,4,5\n",
        "    factorial = factorial*i\n",
        "  print('The facctorial of :',number, 'is',factorial)"
      ]
    },
    {
      "cell_type": "markdown",
      "source": [
        "Factorial Function\n"
      ],
      "metadata": {
        "id": "0AvqHLeF76uy"
      }
    },
    {
      "cell_type": "code",
      "source": [
        "def factorial_value(num):\n",
        "\n",
        "  factorial = 1\n",
        "\n",
        "  if num == 0:\n",
        "    return factorial\n",
        "\n",
        "  else:\n",
        "    for i in range(1,num+1):\n",
        "      factorial = factorial*i\n",
        "  return factorial"
      ],
      "metadata": {
        "id": "Z7ppsuw88EC0"
      },
      "execution_count": 22,
      "outputs": []
    },
    {
      "cell_type": "code",
      "source": [
        "print(factorial_value(5))"
      ],
      "metadata": {
        "colab": {
          "base_uri": "https://localhost:8080/"
        },
        "id": "Dk9XUWnx8lXe",
        "outputId": "38aa1423-101b-4a10-e925-9c73f87a2746"
      },
      "execution_count": 23,
      "outputs": [
        {
          "output_type": "stream",
          "name": "stdout",
          "text": [
            "120\n"
          ]
        }
      ]
    },
    {
      "cell_type": "code",
      "source": [
        "print(factorial_value(10))"
      ],
      "metadata": {
        "colab": {
          "base_uri": "https://localhost:8080/"
        },
        "id": "WWpfHGHw87JI",
        "outputId": "90de2277-bbb9-4e60-be80-c0d3dcc5fa91"
      },
      "execution_count": 24,
      "outputs": [
        {
          "output_type": "stream",
          "name": "stdout",
          "text": [
            "3628800\n"
          ]
        }
      ]
    },
    {
      "cell_type": "code",
      "source": [
        "print(factorial_value(6))"
      ],
      "metadata": {
        "colab": {
          "base_uri": "https://localhost:8080/"
        },
        "id": "woE2WGyd9M7h",
        "outputId": "3f17e31e-1f71-4dc0-93c4-c64eb3f7ca4e"
      },
      "execution_count": 25,
      "outputs": [
        {
          "output_type": "stream",
          "name": "stdout",
          "text": [
            "720\n"
          ]
        }
      ]
    },
    {
      "cell_type": "code",
      "source": [],
      "metadata": {
        "id": "zatHTn1E9ZYB"
      },
      "execution_count": null,
      "outputs": []
    }
  ]
}